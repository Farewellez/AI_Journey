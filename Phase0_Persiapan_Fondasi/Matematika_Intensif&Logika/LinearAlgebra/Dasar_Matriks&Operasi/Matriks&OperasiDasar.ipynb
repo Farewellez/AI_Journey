{
  "nbformat": 4,
  "nbformat_minor": 0,
  "metadata": {
    "colab": {
      "provenance": []
    },
    "kernelspec": {
      "name": "python3",
      "display_name": "Python 3"
    },
    "language_info": {
      "name": "python"
    }
  },
  "cells": [
    {
      "cell_type": "markdown",
      "source": [
        "# Membuat Matriks dengan NumPy"
      ],
      "metadata": {
        "id": "7GgHfoAB2AGO"
      }
    },
    {
      "cell_type": "code",
      "execution_count": null,
      "metadata": {
        "id": "RjIOPGiE1rg7"
      },
      "outputs": [],
      "source": [
        "import numpy as np"
      ]
    },
    {
      "cell_type": "code",
      "source": [
        "#  Definisi Matrix\n",
        "A = np.array([[1, 2], [3, 4]])\n",
        "B = np.array([[5, 6], [7, 8]])\n",
        "\n",
        "print(f\"Matrix A:\\n{A}\")\n",
        "print(f\"Matrix B:\\n{B}\")"
      ],
      "metadata": {
        "colab": {
          "base_uri": "https://localhost:8080/"
        },
        "collapsed": true,
        "id": "2hW8eBjP2LB1",
        "outputId": "87ff4a44-8f6c-40d4-c823-77d2690f0c18"
      },
      "execution_count": null,
      "outputs": [
        {
          "output_type": "stream",
          "name": "stdout",
          "text": [
            "Matrix A:\n",
            "[[1 2]\n",
            " [3 4]]\n",
            "Matrix B:\n",
            "[[5 6]\n",
            " [7 8]]\n"
          ]
        }
      ]
    },
    {
      "cell_type": "markdown",
      "source": [
        "# Operasi Dasar Matriks"
      ],
      "metadata": {
        "id": "SvP0rd0l2soj"
      }
    },
    {
      "cell_type": "code",
      "source": [
        "# Penjumlahan dan Pengurangan\n",
        "print(f\"Matriks A + Matriks B:\\n{A + B}\")\n",
        "print(f\"Matriks A - Matriks B:\\n{A - B}\")\n",
        "\n",
        "# Perkalian Skalar\n",
        "print(f\"2 x Matriks A:\\n{2 * A}\")\n",
        "print(f\"Matriks A x Matriks B:\\n{A * B}\")"
      ],
      "metadata": {
        "colab": {
          "base_uri": "https://localhost:8080/"
        },
        "collapsed": true,
        "id": "YUQJGarX2vPe",
        "outputId": "989b46dc-bca1-470d-e47c-f21b0fcbdc19"
      },
      "execution_count": null,
      "outputs": [
        {
          "output_type": "stream",
          "name": "stdout",
          "text": [
            "Matriks A + Matriks B:\n",
            "[[ 6  8]\n",
            " [10 12]]\n",
            "Matriks A - Matriks B:\n",
            "[[-4 -4]\n",
            " [-4 -4]]\n",
            "2 x Matriks A:\n",
            "[[2 4]\n",
            " [6 8]]\n",
            "Matriks A x Matriks B:\n",
            "[[ 5 12]\n",
            " [21 32]]\n"
          ]
        }
      ]
    },
    {
      "cell_type": "markdown",
      "source": [
        "# Perkalian Matriks (DotProduct)"
      ],
      "metadata": {
        "id": "U89eKCdw3jn_"
      }
    },
    {
      "cell_type": "code",
      "source": [
        "# Perkalian Matrix\n",
        "C = np.dot(A,B)\n",
        "D = A @ B\n",
        "print(f\"A x B:\\n{C}\")\n",
        "print(f\"A x B:\\n{D}\")"
      ],
      "metadata": {
        "colab": {
          "base_uri": "https://localhost:8080/"
        },
        "collapsed": true,
        "id": "y1s4paDx3oYp",
        "outputId": "97634c86-4e99-4f61-a9fd-81299c2b00cf"
      },
      "execution_count": null,
      "outputs": [
        {
          "output_type": "stream",
          "name": "stdout",
          "text": [
            "A x B:\n",
            "[[19 22]\n",
            " [43 50]]\n",
            "A x B:\n",
            "[[19 22]\n",
            " [43 50]]\n"
          ]
        }
      ]
    },
    {
      "cell_type": "markdown",
      "source": [
        "# Transpose Matriks"
      ],
      "metadata": {
        "id": "yt4QVvRH4GD8"
      }
    },
    {
      "cell_type": "code",
      "source": [
        "# Transpose Matriks\n",
        "print(\"Matriks A Sebelum Transpose:\\n\",A)\n",
        "print(f\"Transpose Matriks A:\\n{A.T}\")\n",
        "print(\"Matriks B Sebelum Transpose:\\n\",B)\n",
        "print(f\"Transpose Matriks B:\\n{B.T}\")\n",
        "\n",
        "# Coba Matriks 1 x 2\n",
        "Non_Persegi = np.array([[1,2]])\n",
        "print(\"Transpose Matrix Non-persegi:\\n\",Non_Persegi)"
      ],
      "metadata": {
        "colab": {
          "base_uri": "https://localhost:8080/"
        },
        "collapsed": true,
        "id": "2G24jpWK4Ie0",
        "outputId": "87827f9f-899b-4e6d-9a45-5d40f5159af5"
      },
      "execution_count": null,
      "outputs": [
        {
          "output_type": "stream",
          "name": "stdout",
          "text": [
            "Matriks A Sebelum Transpose:\n",
            " [[1 2]\n",
            " [3 4]]\n",
            "Transpose Matriks A:\n",
            "[[1 3]\n",
            " [2 4]]\n",
            "Matriks B Sebelum Transpose:\n",
            " [[5 6]\n",
            " [7 8]]\n",
            "Transpose Matriks B:\n",
            "[[5 7]\n",
            " [6 8]]\n",
            "Transpose Matrix Non-persegi:\n",
            " [[1 2]]\n"
          ]
        }
      ]
    },
    {
      "cell_type": "markdown",
      "source": [
        "# Invers Matriks"
      ],
      "metadata": {
        "id": "j2NDSMJO46JL"
      }
    },
    {
      "cell_type": "code",
      "source": [
        "# Inverse Matriks\n",
        "A_Inv = np.linalg.inv(A)\n",
        "print(\"Matriks A sebelum inverse:\\n\",A)\n",
        "print(\"Inverse Matriks A:\\n\",A_Inv)\n",
        "# Uji coba dengan matriks B\n",
        "B_Inv = np.linalg.inv(B)\n",
        "print(\"Matriks B sebelum inverse:\\n\",B)\n",
        "print(\"Inverse Matriks B:\\n\",B_Inv)"
      ],
      "metadata": {
        "colab": {
          "base_uri": "https://localhost:8080/"
        },
        "collapsed": true,
        "id": "V05xgcxv45zz",
        "outputId": "2dca6892-f90a-4bec-9779-63d05596f604"
      },
      "execution_count": null,
      "outputs": [
        {
          "output_type": "stream",
          "name": "stdout",
          "text": [
            "Matriks A sebelum inverse:\n",
            " [[1 2]\n",
            " [3 4]]\n",
            "Inverse Matriks A:\n",
            " [[-2.   1. ]\n",
            " [ 1.5 -0.5]]\n",
            "Matriks B sebelum inverse:\n",
            " [[5 6]\n",
            " [7 8]]\n",
            "Inverse Matriks B:\n",
            " [[-4.   3. ]\n",
            " [ 3.5 -2.5]]\n"
          ]
        }
      ]
    },
    {
      "cell_type": "markdown",
      "source": [
        "# Membuat penyelesaian Sistem Persamaan Linier:\n",
        "# $$\n",
        "\\mathbf{A}\\mathbf{x} = \\mathbf{b}\n",
        "$$\n",
        "di mana:\n",
        "\n",
        "𝐴 adalah matriks koefisien berukuran\n",
        "𝑚 × 𝑛(biasanya square matrix\n",
        "𝑛 × 𝑛 jika ada solusi unik),\n",
        "\n",
        "𝑥 adalah vektor variabel yang ingin kita cari,\n",
        "\n",
        "b adalah vektor hasil.\n",
        "# Dengan Menggunakan NumPy"
      ],
      "metadata": {
        "id": "5Jyp0tPx9IUE"
      }
    },
    {
      "cell_type": "code",
      "source": [
        "import numpy as np"
      ],
      "metadata": {
        "id": "a07y8pO995hL"
      },
      "execution_count": null,
      "outputs": []
    },
    {
      "cell_type": "code",
      "source": [
        "import numpy as np\n",
        "\n",
        "# Matriks A (Koefisien)\n",
        "A = np.array([[2, 1], [1, -1]])\n",
        "\n",
        "# Vektor b (Hasil)\n",
        "b = np.array([1, 3])\n",
        "\n",
        "# Menyelesaikan untuk x\n",
        "x = np.linalg.solve(A, b)\n",
        "\n",
        "print(\"Solusi untuk x dan y:\\n\", x)"
      ],
      "metadata": {
        "colab": {
          "base_uri": "https://localhost:8080/"
        },
        "id": "W7j4LwGP-DLj",
        "outputId": "41f768b5-0207-4293-960e-8b264ea003a2"
      },
      "execution_count": null,
      "outputs": [
        {
          "output_type": "stream",
          "name": "stdout",
          "text": [
            "Solusi untuk x dan y:\n",
            " [ 1.33333333 -1.66666667]\n"
          ]
        }
      ]
    },
    {
      "cell_type": "markdown",
      "source": [
        "## Misalkan kita punya sistem persamaan<br>\n",
        "# $\n",
        "\\begin{cases} 3x + 2y = 5 \\\\ 4x - y = 6 \\end{cases}\n",
        "$\n",
        "## Maka bentuk matriks nya\n",
        "# $\n",
        "\\begin{bmatrix} 3 & 2 \\\\ 4 & -1 \\end{bmatrix} \\begin{bmatrix} x \\\\ y \\end{bmatrix} = \\begin{bmatrix} 5 \\\\ 6 \\end{bmatrix}\n",
        "$\n"
      ],
      "metadata": {
        "id": "0zqn18Ra-cee"
      }
    },
    {
      "cell_type": "markdown",
      "source": [
        "## Dengan Fungsi np.linalg.solve(A, b) secara matematis menyelesaikan\n",
        "# $\n",
        "\\mathbf{x} = \\mathbf{A}^{-1} \\mathbf{b}\n",
        "$\n",
        "## Namun, NumPy tidak benar-benar menghitung invers matriks, karena itu tidak efisien. Sebagai gantinya, NumPy menggunakan metode Gaussian Elimination yang lebih cepat."
      ],
      "metadata": {
        "id": "_9bIY08r-4US"
      }
    },
    {
      "cell_type": "code",
      "source": [
        "import numpy as np\n",
        "\n",
        "A = np.array([[3, 2], [4, -1]])  # Matriks Koefisien\n",
        "b = np.array([5, 6])             # Vektor Hasil\n",
        "\n",
        "X = np.linalg.solve(A, b)  # Cari solusi untuk x dan y\n",
        "\n",
        "print(\"Solusi untuk x dan y:\", X)"
      ],
      "metadata": {
        "colab": {
          "base_uri": "https://localhost:8080/"
        },
        "id": "GwjmkkZy-Mda",
        "outputId": "9ebf51dd-2b46-4d1d-d5f7-a7043b62a43c"
      },
      "execution_count": null,
      "outputs": [
        {
          "output_type": "stream",
          "name": "stdout",
          "text": [
            "Solusi untuk x dan y: [1.54545455 0.18181818]\n"
          ]
        }
      ]
    }
  ]
}